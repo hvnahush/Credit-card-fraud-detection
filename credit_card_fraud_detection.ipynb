{
  "nbformat": 4,
  "nbformat_minor": 0,
  "metadata": {
    "colab": {
      "name": "credit card fraud detection.ipynb",
      "provenance": [],
      "authorship_tag": "ABX9TyPz3NFg8de3oaIHzuNnXwug",
      "include_colab_link": true
    },
    "kernelspec": {
      "name": "python3",
      "display_name": "Python 3"
    },
    "language_info": {
      "name": "python"
    }
  },
  "cells": [
    {
      "cell_type": "markdown",
      "metadata": {
        "id": "view-in-github",
        "colab_type": "text"
      },
      "source": [
        "<a href=\"https://colab.research.google.com/github/hvnahush/Credit-card-fraud-detection/blob/main/credit_card_fraud_detection.ipynb\" target=\"_parent\"><img src=\"https://colab.research.google.com/assets/colab-badge.svg\" alt=\"Open In Colab\"/></a>"
      ]
    },
    {
      "cell_type": "code",
      "metadata": {
        "id": "MyuaZ9p-QvB5"
      },
      "source": [
        "import numpy as np \n",
        "import pandas as pd\n",
        "from sklearn.model_selection import train_test_split\n",
        "from sklearn.linear_model import LogisticRegression\n",
        "from sklearn.metrics import accuracy_score"
      ],
      "execution_count": null,
      "outputs": []
    },
    {
      "cell_type": "code",
      "metadata": {
        "id": "qiJNJphtTpdi"
      },
      "source": [
        "credit_card_data = pd.read_csv(r\"/content/creditcard.csv\")"
      ],
      "execution_count": null,
      "outputs": []
    },
    {
      "cell_type": "code",
      "metadata": {
        "colab": {
          "base_uri": "https://localhost:8080/",
          "height": 223
        },
        "id": "yK1cUheqT5oE",
        "outputId": "10e08bfc-b3e8-4e92-e6e5-32cd91b33465"
      },
      "source": [
        "credit_card_data.head()"
      ],
      "execution_count": null,
      "outputs": [
        {
          "output_type": "execute_result",
          "data": {
            "text/html": [
              "<div>\n",
              "<style scoped>\n",
              "    .dataframe tbody tr th:only-of-type {\n",
              "        vertical-align: middle;\n",
              "    }\n",
              "\n",
              "    .dataframe tbody tr th {\n",
              "        vertical-align: top;\n",
              "    }\n",
              "\n",
              "    .dataframe thead th {\n",
              "        text-align: right;\n",
              "    }\n",
              "</style>\n",
              "<table border=\"1\" class=\"dataframe\">\n",
              "  <thead>\n",
              "    <tr style=\"text-align: right;\">\n",
              "      <th></th>\n",
              "      <th>Time</th>\n",
              "      <th>V1</th>\n",
              "      <th>V2</th>\n",
              "      <th>V3</th>\n",
              "      <th>V4</th>\n",
              "      <th>V5</th>\n",
              "      <th>V6</th>\n",
              "      <th>V7</th>\n",
              "      <th>V8</th>\n",
              "      <th>V9</th>\n",
              "      <th>V10</th>\n",
              "      <th>V11</th>\n",
              "      <th>V12</th>\n",
              "      <th>V13</th>\n",
              "      <th>V14</th>\n",
              "      <th>V15</th>\n",
              "      <th>V16</th>\n",
              "      <th>V17</th>\n",
              "      <th>V18</th>\n",
              "      <th>V19</th>\n",
              "      <th>V20</th>\n",
              "      <th>V21</th>\n",
              "      <th>V22</th>\n",
              "      <th>V23</th>\n",
              "      <th>V24</th>\n",
              "      <th>V25</th>\n",
              "      <th>V26</th>\n",
              "      <th>V27</th>\n",
              "      <th>V28</th>\n",
              "      <th>Amount</th>\n",
              "      <th>Class</th>\n",
              "    </tr>\n",
              "  </thead>\n",
              "  <tbody>\n",
              "    <tr>\n",
              "      <th>0</th>\n",
              "      <td>0</td>\n",
              "      <td>-1.359807</td>\n",
              "      <td>-0.072781</td>\n",
              "      <td>2.536347</td>\n",
              "      <td>1.378155</td>\n",
              "      <td>-0.338321</td>\n",
              "      <td>0.462388</td>\n",
              "      <td>0.239599</td>\n",
              "      <td>0.098698</td>\n",
              "      <td>0.363787</td>\n",
              "      <td>0.090794</td>\n",
              "      <td>-0.551600</td>\n",
              "      <td>-0.617801</td>\n",
              "      <td>-0.991390</td>\n",
              "      <td>-0.311169</td>\n",
              "      <td>1.468177</td>\n",
              "      <td>-0.470401</td>\n",
              "      <td>0.207971</td>\n",
              "      <td>0.025791</td>\n",
              "      <td>0.403993</td>\n",
              "      <td>0.251412</td>\n",
              "      <td>-0.018307</td>\n",
              "      <td>0.277838</td>\n",
              "      <td>-0.110474</td>\n",
              "      <td>0.066928</td>\n",
              "      <td>0.128539</td>\n",
              "      <td>-0.189115</td>\n",
              "      <td>0.133558</td>\n",
              "      <td>-0.021053</td>\n",
              "      <td>149.62</td>\n",
              "      <td>0.0</td>\n",
              "    </tr>\n",
              "    <tr>\n",
              "      <th>1</th>\n",
              "      <td>0</td>\n",
              "      <td>1.191857</td>\n",
              "      <td>0.266151</td>\n",
              "      <td>0.166480</td>\n",
              "      <td>0.448154</td>\n",
              "      <td>0.060018</td>\n",
              "      <td>-0.082361</td>\n",
              "      <td>-0.078803</td>\n",
              "      <td>0.085102</td>\n",
              "      <td>-0.255425</td>\n",
              "      <td>-0.166974</td>\n",
              "      <td>1.612727</td>\n",
              "      <td>1.065235</td>\n",
              "      <td>0.489095</td>\n",
              "      <td>-0.143772</td>\n",
              "      <td>0.635558</td>\n",
              "      <td>0.463917</td>\n",
              "      <td>-0.114805</td>\n",
              "      <td>-0.183361</td>\n",
              "      <td>-0.145783</td>\n",
              "      <td>-0.069083</td>\n",
              "      <td>-0.225775</td>\n",
              "      <td>-0.638672</td>\n",
              "      <td>0.101288</td>\n",
              "      <td>-0.339846</td>\n",
              "      <td>0.167170</td>\n",
              "      <td>0.125895</td>\n",
              "      <td>-0.008983</td>\n",
              "      <td>0.014724</td>\n",
              "      <td>2.69</td>\n",
              "      <td>0.0</td>\n",
              "    </tr>\n",
              "    <tr>\n",
              "      <th>2</th>\n",
              "      <td>1</td>\n",
              "      <td>-1.358354</td>\n",
              "      <td>-1.340163</td>\n",
              "      <td>1.773209</td>\n",
              "      <td>0.379780</td>\n",
              "      <td>-0.503198</td>\n",
              "      <td>1.800499</td>\n",
              "      <td>0.791461</td>\n",
              "      <td>0.247676</td>\n",
              "      <td>-1.514654</td>\n",
              "      <td>0.207643</td>\n",
              "      <td>0.624501</td>\n",
              "      <td>0.066084</td>\n",
              "      <td>0.717293</td>\n",
              "      <td>-0.165946</td>\n",
              "      <td>2.345865</td>\n",
              "      <td>-2.890083</td>\n",
              "      <td>1.109969</td>\n",
              "      <td>-0.121359</td>\n",
              "      <td>-2.261857</td>\n",
              "      <td>0.524980</td>\n",
              "      <td>0.247998</td>\n",
              "      <td>0.771679</td>\n",
              "      <td>0.909412</td>\n",
              "      <td>-0.689281</td>\n",
              "      <td>-0.327642</td>\n",
              "      <td>-0.139097</td>\n",
              "      <td>-0.055353</td>\n",
              "      <td>-0.059752</td>\n",
              "      <td>378.66</td>\n",
              "      <td>0.0</td>\n",
              "    </tr>\n",
              "    <tr>\n",
              "      <th>3</th>\n",
              "      <td>1</td>\n",
              "      <td>-0.966272</td>\n",
              "      <td>-0.185226</td>\n",
              "      <td>1.792993</td>\n",
              "      <td>-0.863291</td>\n",
              "      <td>-0.010309</td>\n",
              "      <td>1.247203</td>\n",
              "      <td>0.237609</td>\n",
              "      <td>0.377436</td>\n",
              "      <td>-1.387024</td>\n",
              "      <td>-0.054952</td>\n",
              "      <td>-0.226487</td>\n",
              "      <td>0.178228</td>\n",
              "      <td>0.507757</td>\n",
              "      <td>-0.287924</td>\n",
              "      <td>-0.631418</td>\n",
              "      <td>-1.059647</td>\n",
              "      <td>-0.684093</td>\n",
              "      <td>1.965775</td>\n",
              "      <td>-1.232622</td>\n",
              "      <td>-0.208038</td>\n",
              "      <td>-0.108300</td>\n",
              "      <td>0.005274</td>\n",
              "      <td>-0.190321</td>\n",
              "      <td>-1.175575</td>\n",
              "      <td>0.647376</td>\n",
              "      <td>-0.221929</td>\n",
              "      <td>0.062723</td>\n",
              "      <td>0.061458</td>\n",
              "      <td>123.50</td>\n",
              "      <td>0.0</td>\n",
              "    </tr>\n",
              "    <tr>\n",
              "      <th>4</th>\n",
              "      <td>2</td>\n",
              "      <td>-1.158233</td>\n",
              "      <td>0.877737</td>\n",
              "      <td>1.548718</td>\n",
              "      <td>0.403034</td>\n",
              "      <td>-0.407193</td>\n",
              "      <td>0.095921</td>\n",
              "      <td>0.592941</td>\n",
              "      <td>-0.270533</td>\n",
              "      <td>0.817739</td>\n",
              "      <td>0.753074</td>\n",
              "      <td>-0.822843</td>\n",
              "      <td>0.538196</td>\n",
              "      <td>1.345852</td>\n",
              "      <td>-1.119670</td>\n",
              "      <td>0.175121</td>\n",
              "      <td>-0.451449</td>\n",
              "      <td>-0.237033</td>\n",
              "      <td>-0.038195</td>\n",
              "      <td>0.803487</td>\n",
              "      <td>0.408542</td>\n",
              "      <td>-0.009431</td>\n",
              "      <td>0.798278</td>\n",
              "      <td>-0.137458</td>\n",
              "      <td>0.141267</td>\n",
              "      <td>-0.206010</td>\n",
              "      <td>0.502292</td>\n",
              "      <td>0.219422</td>\n",
              "      <td>0.215153</td>\n",
              "      <td>69.99</td>\n",
              "      <td>0.0</td>\n",
              "    </tr>\n",
              "  </tbody>\n",
              "</table>\n",
              "</div>"
            ],
            "text/plain": [
              "   Time        V1        V2        V3  ...       V27       V28  Amount  Class\n",
              "0     0 -1.359807 -0.072781  2.536347  ...  0.133558 -0.021053  149.62    0.0\n",
              "1     0  1.191857  0.266151  0.166480  ... -0.008983  0.014724    2.69    0.0\n",
              "2     1 -1.358354 -1.340163  1.773209  ... -0.055353 -0.059752  378.66    0.0\n",
              "3     1 -0.966272 -0.185226  1.792993  ...  0.062723  0.061458  123.50    0.0\n",
              "4     2 -1.158233  0.877737  1.548718  ...  0.219422  0.215153   69.99    0.0\n",
              "\n",
              "[5 rows x 31 columns]"
            ]
          },
          "metadata": {},
          "execution_count": 4
        }
      ]
    },
    {
      "cell_type": "code",
      "metadata": {
        "colab": {
          "base_uri": "https://localhost:8080/",
          "height": 223
        },
        "id": "pcw9-ACaT9GL",
        "outputId": "0eae27c6-fac6-41a8-8668-f485a29c6a57"
      },
      "source": [
        "# to check last five rows of dataFrame\n",
        "credit_card_data.tail()"
      ],
      "execution_count": null,
      "outputs": [
        {
          "output_type": "execute_result",
          "data": {
            "text/html": [
              "<div>\n",
              "<style scoped>\n",
              "    .dataframe tbody tr th:only-of-type {\n",
              "        vertical-align: middle;\n",
              "    }\n",
              "\n",
              "    .dataframe tbody tr th {\n",
              "        vertical-align: top;\n",
              "    }\n",
              "\n",
              "    .dataframe thead th {\n",
              "        text-align: right;\n",
              "    }\n",
              "</style>\n",
              "<table border=\"1\" class=\"dataframe\">\n",
              "  <thead>\n",
              "    <tr style=\"text-align: right;\">\n",
              "      <th></th>\n",
              "      <th>Time</th>\n",
              "      <th>V1</th>\n",
              "      <th>V2</th>\n",
              "      <th>V3</th>\n",
              "      <th>V4</th>\n",
              "      <th>V5</th>\n",
              "      <th>V6</th>\n",
              "      <th>V7</th>\n",
              "      <th>V8</th>\n",
              "      <th>V9</th>\n",
              "      <th>V10</th>\n",
              "      <th>V11</th>\n",
              "      <th>V12</th>\n",
              "      <th>V13</th>\n",
              "      <th>V14</th>\n",
              "      <th>V15</th>\n",
              "      <th>V16</th>\n",
              "      <th>V17</th>\n",
              "      <th>V18</th>\n",
              "      <th>V19</th>\n",
              "      <th>V20</th>\n",
              "      <th>V21</th>\n",
              "      <th>V22</th>\n",
              "      <th>V23</th>\n",
              "      <th>V24</th>\n",
              "      <th>V25</th>\n",
              "      <th>V26</th>\n",
              "      <th>V27</th>\n",
              "      <th>V28</th>\n",
              "      <th>Amount</th>\n",
              "      <th>Class</th>\n",
              "    </tr>\n",
              "  </thead>\n",
              "  <tbody>\n",
              "    <tr>\n",
              "      <th>13949</th>\n",
              "      <td>24754</td>\n",
              "      <td>1.252924</td>\n",
              "      <td>-0.182189</td>\n",
              "      <td>-0.802716</td>\n",
              "      <td>-0.210981</td>\n",
              "      <td>1.916713</td>\n",
              "      <td>3.643624</td>\n",
              "      <td>-0.778711</td>\n",
              "      <td>0.818295</td>\n",
              "      <td>1.706962</td>\n",
              "      <td>-0.539481</td>\n",
              "      <td>0.524218</td>\n",
              "      <td>-2.224983</td>\n",
              "      <td>1.506368</td>\n",
              "      <td>1.469584</td>\n",
              "      <td>-0.670082</td>\n",
              "      <td>0.122806</td>\n",
              "      <td>0.247449</td>\n",
              "      <td>-0.019811</td>\n",
              "      <td>0.418664</td>\n",
              "      <td>-0.001336</td>\n",
              "      <td>-0.497088</td>\n",
              "      <td>-1.211285</td>\n",
              "      <td>0.043809</td>\n",
              "      <td>0.964159</td>\n",
              "      <td>0.442030</td>\n",
              "      <td>0.261483</td>\n",
              "      <td>-0.051402</td>\n",
              "      <td>0.005112</td>\n",
              "      <td>23.74</td>\n",
              "      <td>0.0</td>\n",
              "    </tr>\n",
              "    <tr>\n",
              "      <th>13950</th>\n",
              "      <td>24756</td>\n",
              "      <td>-0.346979</td>\n",
              "      <td>-2.103284</td>\n",
              "      <td>-0.685061</td>\n",
              "      <td>1.961605</td>\n",
              "      <td>-0.401125</td>\n",
              "      <td>0.473632</td>\n",
              "      <td>1.133816</td>\n",
              "      <td>-0.256528</td>\n",
              "      <td>0.893409</td>\n",
              "      <td>-0.639733</td>\n",
              "      <td>2.069409</td>\n",
              "      <td>-1.105807</td>\n",
              "      <td>2.339853</td>\n",
              "      <td>1.921904</td>\n",
              "      <td>-1.153485</td>\n",
              "      <td>-0.336047</td>\n",
              "      <td>0.509636</td>\n",
              "      <td>0.060266</td>\n",
              "      <td>-0.535280</td>\n",
              "      <td>1.437054</td>\n",
              "      <td>0.359662</td>\n",
              "      <td>-0.316275</td>\n",
              "      <td>-0.864259</td>\n",
              "      <td>-0.279881</td>\n",
              "      <td>0.491802</td>\n",
              "      <td>-0.353996</td>\n",
              "      <td>-0.149931</td>\n",
              "      <td>0.129795</td>\n",
              "      <td>794.20</td>\n",
              "      <td>0.0</td>\n",
              "    </tr>\n",
              "    <tr>\n",
              "      <th>13951</th>\n",
              "      <td>24759</td>\n",
              "      <td>-6.053652</td>\n",
              "      <td>-5.988723</td>\n",
              "      <td>0.810413</td>\n",
              "      <td>-0.011811</td>\n",
              "      <td>1.308135</td>\n",
              "      <td>-0.590803</td>\n",
              "      <td>-0.725838</td>\n",
              "      <td>-0.234840</td>\n",
              "      <td>1.624646</td>\n",
              "      <td>0.816619</td>\n",
              "      <td>2.557427</td>\n",
              "      <td>-2.480679</td>\n",
              "      <td>1.757415</td>\n",
              "      <td>0.307835</td>\n",
              "      <td>-0.667360</td>\n",
              "      <td>1.424542</td>\n",
              "      <td>0.717358</td>\n",
              "      <td>-1.323944</td>\n",
              "      <td>-0.091943</td>\n",
              "      <td>-2.982379</td>\n",
              "      <td>-0.771970</td>\n",
              "      <td>1.474668</td>\n",
              "      <td>3.176363</td>\n",
              "      <td>-0.302410</td>\n",
              "      <td>0.052529</td>\n",
              "      <td>-0.373871</td>\n",
              "      <td>-0.700463</td>\n",
              "      <td>2.508443</td>\n",
              "      <td>60.00</td>\n",
              "      <td>0.0</td>\n",
              "    </tr>\n",
              "    <tr>\n",
              "      <th>13952</th>\n",
              "      <td>24759</td>\n",
              "      <td>1.169121</td>\n",
              "      <td>-1.284945</td>\n",
              "      <td>0.032717</td>\n",
              "      <td>-0.681670</td>\n",
              "      <td>0.660598</td>\n",
              "      <td>4.412578</td>\n",
              "      <td>-1.913115</td>\n",
              "      <td>1.076592</td>\n",
              "      <td>1.501230</td>\n",
              "      <td>0.089684</td>\n",
              "      <td>-0.085081</td>\n",
              "      <td>-2.392619</td>\n",
              "      <td>1.877502</td>\n",
              "      <td>0.643433</td>\n",
              "      <td>-1.206728</td>\n",
              "      <td>-1.262256</td>\n",
              "      <td>0.563295</td>\n",
              "      <td>1.845204</td>\n",
              "      <td>-0.471718</td>\n",
              "      <td>-0.265041</td>\n",
              "      <td>-0.557596</td>\n",
              "      <td>-0.882435</td>\n",
              "      <td>-0.041523</td>\n",
              "      <td>0.975445</td>\n",
              "      <td>0.297229</td>\n",
              "      <td>0.550515</td>\n",
              "      <td>0.015029</td>\n",
              "      <td>0.032067</td>\n",
              "      <td>90.00</td>\n",
              "      <td>0.0</td>\n",
              "    </tr>\n",
              "    <tr>\n",
              "      <th>13953</th>\n",
              "      <td>24759</td>\n",
              "      <td>-6.917152</td>\n",
              "      <td>5.854171</td>\n",
              "      <td>-1.652458</td>\n",
              "      <td>-1.488884</td>\n",
              "      <td>-0.833891</td>\n",
              "      <td>-0.344418</td>\n",
              "      <td>0.393789</td>\n",
              "      <td>0.379968</td>\n",
              "      <td>6.133597</td>\n",
              "      <td>8.063261</td>\n",
              "      <td>3.074405</td>\n",
              "      <td>-1.822549</td>\n",
              "      <td>1.637008</td>\n",
              "      <td>-1.010715</td>\n",
              "      <td>0.231682</td>\n",
              "      <td>-0.349489</td>\n",
              "      <td>0.262064</td>\n",
              "      <td>-0.188737</td>\n",
              "      <td>-1.008723</td>\n",
              "      <td>3.469163</td>\n",
              "      <td>-1.404681</td>\n",
              "      <td>-1.124694</td>\n",
              "      <td>0.174333</td>\n",
              "      <td>-0.528234</td>\n",
              "      <td>0.990685</td>\n",
              "      <td>-0.035875</td>\n",
              "      <td>1.071374</td>\n",
              "      <td>-0.168831</td>\n",
              "      <td>NaN</td>\n",
              "      <td>NaN</td>\n",
              "    </tr>\n",
              "  </tbody>\n",
              "</table>\n",
              "</div>"
            ],
            "text/plain": [
              "        Time        V1        V2        V3  ...       V27       V28  Amount  Class\n",
              "13949  24754  1.252924 -0.182189 -0.802716  ... -0.051402  0.005112   23.74    0.0\n",
              "13950  24756 -0.346979 -2.103284 -0.685061  ... -0.149931  0.129795  794.20    0.0\n",
              "13951  24759 -6.053652 -5.988723  0.810413  ... -0.700463  2.508443   60.00    0.0\n",
              "13952  24759  1.169121 -1.284945  0.032717  ...  0.015029  0.032067   90.00    0.0\n",
              "13953  24759 -6.917152  5.854171 -1.652458  ...  1.071374 -0.168831     NaN    NaN\n",
              "\n",
              "[5 rows x 31 columns]"
            ]
          },
          "metadata": {},
          "execution_count": 5
        }
      ]
    },
    {
      "cell_type": "code",
      "metadata": {
        "colab": {
          "base_uri": "https://localhost:8080/"
        },
        "id": "h0cmqXpFVQf1",
        "outputId": "87f8d93d-73ba-4328-f203-359b0dab4196"
      },
      "source": [
        "# information about dataframe\n",
        "credit_card_data.info()"
      ],
      "execution_count": null,
      "outputs": [
        {
          "output_type": "stream",
          "name": "stdout",
          "text": [
            "<class 'pandas.core.frame.DataFrame'>\n",
            "RangeIndex: 13954 entries, 0 to 13953\n",
            "Data columns (total 31 columns):\n",
            " #   Column  Non-Null Count  Dtype  \n",
            "---  ------  --------------  -----  \n",
            " 0   Time    13954 non-null  int64  \n",
            " 1   V1      13954 non-null  float64\n",
            " 2   V2      13954 non-null  float64\n",
            " 3   V3      13954 non-null  float64\n",
            " 4   V4      13954 non-null  float64\n",
            " 5   V5      13954 non-null  float64\n",
            " 6   V6      13954 non-null  float64\n",
            " 7   V7      13954 non-null  float64\n",
            " 8   V8      13954 non-null  float64\n",
            " 9   V9      13954 non-null  float64\n",
            " 10  V10     13954 non-null  float64\n",
            " 11  V11     13954 non-null  float64\n",
            " 12  V12     13954 non-null  float64\n",
            " 13  V13     13954 non-null  float64\n",
            " 14  V14     13954 non-null  float64\n",
            " 15  V15     13954 non-null  float64\n",
            " 16  V16     13954 non-null  float64\n",
            " 17  V17     13954 non-null  float64\n",
            " 18  V18     13954 non-null  float64\n",
            " 19  V19     13954 non-null  float64\n",
            " 20  V20     13954 non-null  float64\n",
            " 21  V21     13954 non-null  float64\n",
            " 22  V22     13954 non-null  float64\n",
            " 23  V23     13954 non-null  float64\n",
            " 24  V24     13954 non-null  float64\n",
            " 25  V25     13954 non-null  float64\n",
            " 26  V26     13954 non-null  float64\n",
            " 27  V27     13954 non-null  float64\n",
            " 28  V28     13954 non-null  float64\n",
            " 29  Amount  13953 non-null  float64\n",
            " 30  Class   13953 non-null  float64\n",
            "dtypes: float64(30), int64(1)\n",
            "memory usage: 3.3 MB\n"
          ]
        }
      ]
    },
    {
      "cell_type": "code",
      "metadata": {
        "colab": {
          "base_uri": "https://localhost:8080/"
        },
        "id": "hq92ypTQVhNN",
        "outputId": "251ca7e9-cf58-4753-88fb-b07c241a5a69"
      },
      "source": [
        "# to check the numbers of  misssing values in each column\n",
        "credit_card_data.isnull().sum()"
      ],
      "execution_count": null,
      "outputs": [
        {
          "output_type": "execute_result",
          "data": {
            "text/plain": [
              "Time      0\n",
              "V1        0\n",
              "V2        0\n",
              "V3        0\n",
              "V4        0\n",
              "V5        0\n",
              "V6        0\n",
              "V7        0\n",
              "V8        0\n",
              "V9        0\n",
              "V10       0\n",
              "V11       0\n",
              "V12       0\n",
              "V13       0\n",
              "V14       0\n",
              "V15       0\n",
              "V16       0\n",
              "V17       0\n",
              "V18       0\n",
              "V19       0\n",
              "V20       0\n",
              "V21       0\n",
              "V22       0\n",
              "V23       0\n",
              "V24       0\n",
              "V25       0\n",
              "V26       0\n",
              "V27       0\n",
              "V28       0\n",
              "Amount    1\n",
              "Class     1\n",
              "dtype: int64"
            ]
          },
          "metadata": {},
          "execution_count": 7
        }
      ]
    },
    {
      "cell_type": "code",
      "metadata": {
        "colab": {
          "base_uri": "https://localhost:8080/"
        },
        "id": "8E1z6darWS0e",
        "outputId": "df3be6b2-f166-43da-e43f-9e1d6c01e20e"
      },
      "source": [
        "# checking the number rows and columns\n",
        "credit_card_data.shape"
      ],
      "execution_count": null,
      "outputs": [
        {
          "output_type": "execute_result",
          "data": {
            "text/plain": [
              "(13954, 31)"
            ]
          },
          "metadata": {},
          "execution_count": 8
        }
      ]
    },
    {
      "cell_type": "code",
      "metadata": {
        "id": "h41fnzqiYVCn"
      },
      "source": [
        "#filling the misssing values by median method\n",
        "credit_card_data['V15'].fillna(credit_card_data['V15'].median(),inplace=True)\n",
        "credit_card_data['V16'].fillna(credit_card_data['V16'].median(),inplace=True)\n",
        "credit_card_data['V17'].fillna(credit_card_data['V17'].median(),inplace=True)\n",
        "credit_card_data['V18'].fillna(credit_card_data['V18'].median(),inplace=True)\n",
        "credit_card_data['V19'].fillna(credit_card_data['V19'].median(),inplace=True)\n",
        "credit_card_data['V20'].fillna(credit_card_data['V20'].median(),inplace=True)\n",
        "credit_card_data['V21'].fillna(credit_card_data['V21'].median(),inplace=True)\n",
        "credit_card_data['V22'].fillna(credit_card_data['V22'].median(),inplace=True)\n",
        "credit_card_data['V23'].fillna(credit_card_data['V23'].median(),inplace=True)\n",
        "credit_card_data['V24'].fillna(credit_card_data['V24'].median(),inplace=True)\n",
        "credit_card_data['V25'].fillna(credit_card_data['V25'].median(),inplace=True)\n",
        "credit_card_data['V26'].fillna(credit_card_data['V26'].median(),inplace=True)\n",
        "credit_card_data['V27'].fillna(credit_card_data['V27'].median(),inplace=True)\n",
        "credit_card_data['V28'].fillna(credit_card_data['V28'].median(),inplace=True)\n",
        "credit_card_data['Amount'].fillna(credit_card_data['Amount'].median(),inplace=True)\n",
        "credit_card_data['Class'].fillna(credit_card_data['Class'].median(),inplace=True)"
      ],
      "execution_count": null,
      "outputs": []
    },
    {
      "cell_type": "code",
      "metadata": {
        "colab": {
          "base_uri": "https://localhost:8080/"
        },
        "id": "FS5dFDIda9CJ",
        "outputId": "9851e91a-6266-4d88-f805-9de3feb150a6"
      },
      "source": [
        "credit_card_data.isnull().sum()"
      ],
      "execution_count": null,
      "outputs": [
        {
          "output_type": "execute_result",
          "data": {
            "text/plain": [
              "Time      0\n",
              "V1        0\n",
              "V2        0\n",
              "V3        0\n",
              "V4        0\n",
              "V5        0\n",
              "V6        0\n",
              "V7        0\n",
              "V8        0\n",
              "V9        0\n",
              "V10       0\n",
              "V11       0\n",
              "V12       0\n",
              "V13       0\n",
              "V14       0\n",
              "V15       0\n",
              "V16       0\n",
              "V17       0\n",
              "V18       0\n",
              "V19       0\n",
              "V20       0\n",
              "V21       0\n",
              "V22       0\n",
              "V23       0\n",
              "V24       0\n",
              "V25       0\n",
              "V26       0\n",
              "V27       0\n",
              "V28       0\n",
              "Amount    0\n",
              "Class     0\n",
              "dtype: int64"
            ]
          },
          "metadata": {},
          "execution_count": 10
        }
      ]
    },
    {
      "cell_type": "code",
      "metadata": {
        "id": "gru_T5n0bBMK",
        "colab": {
          "base_uri": "https://localhost:8080/"
        },
        "outputId": "a867fd30-3e3e-4177-b3cb-d15483453c2f"
      },
      "source": [
        "#distrubuting of  and normal fraud transaction\n",
        "credit_card_data['Class'].value_counts()\n"
      ],
      "execution_count": null,
      "outputs": [
        {
          "output_type": "execute_result",
          "data": {
            "text/plain": [
              "0.0    13898\n",
              "1.0       56\n",
              "Name: Class, dtype: int64"
            ]
          },
          "metadata": {},
          "execution_count": 12
        }
      ]
    },
    {
      "cell_type": "markdown",
      "metadata": {
        "id": "ww6G_WsZQx1g"
      },
      "source": [
        " 0.0 = Normal Transcation\n",
        " 1.0 = fraudulent Transaction\n",
        "\n",
        "\n",
        "\n",
        " More than 95% of the data is in one particular class\n",
        " so, we are separating the data present in the class column"
      ]
    },
    {
      "cell_type": "code",
      "metadata": {
        "id": "Hp8peoA7RCyq"
      },
      "source": [
        "#separating the data for analysis\n",
        "normal = credit_card_data[credit_card_data.Class==0.0]\n",
        "fraud = credit_card_data[credit_card_data.Class==1.0]"
      ],
      "execution_count": null,
      "outputs": []
    },
    {
      "cell_type": "code",
      "metadata": {
        "colab": {
          "base_uri": "https://localhost:8080/"
        },
        "id": "qy9AU4XMRi00",
        "outputId": "e7d08144-6cbb-40e2-9c6e-e4520a82e1f8"
      },
      "source": [
        "print(normal.shape)\n",
        "print(fraud.shape)"
      ],
      "execution_count": null,
      "outputs": [
        {
          "output_type": "stream",
          "name": "stdout",
          "text": [
            "(13898, 31)\n",
            "(56, 31)\n"
          ]
        }
      ]
    },
    {
      "cell_type": "code",
      "metadata": {
        "colab": {
          "base_uri": "https://localhost:8080/"
        },
        "id": "zUgn_tYAR1qV",
        "outputId": "a6a19738-3574-4fa8-e525-6502f4dc417a"
      },
      "source": [
        "normal.Amount.describe()"
      ],
      "execution_count": null,
      "outputs": [
        {
          "output_type": "execute_result",
          "data": {
            "text/plain": [
              "count    13898.000000\n",
              "mean        63.770450\n",
              "std        177.158598\n",
              "min          0.000000\n",
              "25%          5.770000\n",
              "50%         15.895000\n",
              "75%         52.355000\n",
              "max       7712.430000\n",
              "Name: Amount, dtype: float64"
            ]
          },
          "metadata": {},
          "execution_count": 18
        }
      ]
    },
    {
      "cell_type": "code",
      "metadata": {
        "colab": {
          "base_uri": "https://localhost:8080/"
        },
        "id": "shtvtfaFTjvU",
        "outputId": "54cfa111-9f27-4c7b-f619-3bca9a7a392a"
      },
      "source": [
        "fraud.Amount.describe()"
      ],
      "execution_count": null,
      "outputs": [
        {
          "output_type": "execute_result",
          "data": {
            "text/plain": [
              "count      56.000000\n",
              "mean       90.815893\n",
              "std       310.308450\n",
              "min         0.000000\n",
              "25%         1.000000\n",
              "50%         1.000000\n",
              "75%         1.025000\n",
              "max      1809.680000\n",
              "Name: Amount, dtype: float64"
            ]
          },
          "metadata": {},
          "execution_count": 19
        }
      ]
    },
    {
      "cell_type": "code",
      "metadata": {
        "colab": {
          "base_uri": "https://localhost:8080/",
          "height": 162
        },
        "id": "4qwibqEAT-dj",
        "outputId": "18a4a2dd-5bf9-4ce5-e2bc-e5add40633cf"
      },
      "source": [
        "#compare the values for Normal and Fraud \n",
        "credit_card_data.groupby('Class').mean()"
      ],
      "execution_count": null,
      "outputs": [
        {
          "output_type": "execute_result",
          "data": {
            "text/html": [
              "<div>\n",
              "<style scoped>\n",
              "    .dataframe tbody tr th:only-of-type {\n",
              "        vertical-align: middle;\n",
              "    }\n",
              "\n",
              "    .dataframe tbody tr th {\n",
              "        vertical-align: top;\n",
              "    }\n",
              "\n",
              "    .dataframe thead th {\n",
              "        text-align: right;\n",
              "    }\n",
              "</style>\n",
              "<table border=\"1\" class=\"dataframe\">\n",
              "  <thead>\n",
              "    <tr style=\"text-align: right;\">\n",
              "      <th></th>\n",
              "      <th>Time</th>\n",
              "      <th>V1</th>\n",
              "      <th>V2</th>\n",
              "      <th>V3</th>\n",
              "      <th>V4</th>\n",
              "      <th>V5</th>\n",
              "      <th>V6</th>\n",
              "      <th>V7</th>\n",
              "      <th>V8</th>\n",
              "      <th>V9</th>\n",
              "      <th>V10</th>\n",
              "      <th>V11</th>\n",
              "      <th>V12</th>\n",
              "      <th>V13</th>\n",
              "      <th>V14</th>\n",
              "      <th>V15</th>\n",
              "      <th>V16</th>\n",
              "      <th>V17</th>\n",
              "      <th>V18</th>\n",
              "      <th>V19</th>\n",
              "      <th>V20</th>\n",
              "      <th>V21</th>\n",
              "      <th>V22</th>\n",
              "      <th>V23</th>\n",
              "      <th>V24</th>\n",
              "      <th>V25</th>\n",
              "      <th>V26</th>\n",
              "      <th>V27</th>\n",
              "      <th>V28</th>\n",
              "      <th>Amount</th>\n",
              "    </tr>\n",
              "    <tr>\n",
              "      <th>Class</th>\n",
              "      <th></th>\n",
              "      <th></th>\n",
              "      <th></th>\n",
              "      <th></th>\n",
              "      <th></th>\n",
              "      <th></th>\n",
              "      <th></th>\n",
              "      <th></th>\n",
              "      <th></th>\n",
              "      <th></th>\n",
              "      <th></th>\n",
              "      <th></th>\n",
              "      <th></th>\n",
              "      <th></th>\n",
              "      <th></th>\n",
              "      <th></th>\n",
              "      <th></th>\n",
              "      <th></th>\n",
              "      <th></th>\n",
              "      <th></th>\n",
              "      <th></th>\n",
              "      <th></th>\n",
              "      <th></th>\n",
              "      <th></th>\n",
              "      <th></th>\n",
              "      <th></th>\n",
              "      <th></th>\n",
              "      <th></th>\n",
              "      <th></th>\n",
              "      <th></th>\n",
              "    </tr>\n",
              "  </thead>\n",
              "  <tbody>\n",
              "    <tr>\n",
              "      <th>0.0</th>\n",
              "      <td>10112.535185</td>\n",
              "      <td>-0.217575</td>\n",
              "      <td>0.266654</td>\n",
              "      <td>0.887044</td>\n",
              "      <td>0.276662</td>\n",
              "      <td>-0.107562</td>\n",
              "      <td>0.13671</td>\n",
              "      <td>-0.131424</td>\n",
              "      <td>-0.020357</td>\n",
              "      <td>1.005829</td>\n",
              "      <td>-0.304722</td>\n",
              "      <td>0.841615</td>\n",
              "      <td>-1.524126</td>\n",
              "      <td>1.010413</td>\n",
              "      <td>0.886845</td>\n",
              "      <td>-0.190728</td>\n",
              "      <td>-0.019694</td>\n",
              "      <td>0.452099</td>\n",
              "      <td>0.011224</td>\n",
              "      <td>-0.087644</td>\n",
              "      <td>0.021006</td>\n",
              "      <td>-0.068782</td>\n",
              "      <td>-0.158300</td>\n",
              "      <td>-0.034819</td>\n",
              "      <td>0.013026</td>\n",
              "      <td>0.117991</td>\n",
              "      <td>0.034344</td>\n",
              "      <td>0.009642</td>\n",
              "      <td>0.002317</td>\n",
              "      <td>63.770450</td>\n",
              "    </tr>\n",
              "    <tr>\n",
              "      <th>1.0</th>\n",
              "      <td>12262.107143</td>\n",
              "      <td>-4.727948</td>\n",
              "      <td>4.660436</td>\n",
              "      <td>-9.328536</td>\n",
              "      <td>6.783464</td>\n",
              "      <td>-2.890388</td>\n",
              "      <td>-2.03036</td>\n",
              "      <td>-6.578337</td>\n",
              "      <td>1.028374</td>\n",
              "      <td>-2.981468</td>\n",
              "      <td>-7.502753</td>\n",
              "      <td>6.879584</td>\n",
              "      <td>-10.591544</td>\n",
              "      <td>0.548941</td>\n",
              "      <td>-9.973580</td>\n",
              "      <td>-0.256254</td>\n",
              "      <td>-5.225182</td>\n",
              "      <td>-7.478164</td>\n",
              "      <td>-2.516508</td>\n",
              "      <td>0.272975</td>\n",
              "      <td>0.453283</td>\n",
              "      <td>0.116896</td>\n",
              "      <td>0.048132</td>\n",
              "      <td>-0.225526</td>\n",
              "      <td>-0.452514</td>\n",
              "      <td>-0.124184</td>\n",
              "      <td>0.333325</td>\n",
              "      <td>0.793484</td>\n",
              "      <td>-0.046177</td>\n",
              "      <td>90.815893</td>\n",
              "    </tr>\n",
              "  </tbody>\n",
              "</table>\n",
              "</div>"
            ],
            "text/plain": [
              "               Time        V1        V2  ...       V27       V28     Amount\n",
              "Class                                    ...                               \n",
              "0.0    10112.535185 -0.217575  0.266654  ...  0.009642  0.002317  63.770450\n",
              "1.0    12262.107143 -4.727948  4.660436  ...  0.793484 -0.046177  90.815893\n",
              "\n",
              "[2 rows x 30 columns]"
            ]
          },
          "metadata": {},
          "execution_count": 20
        }
      ]
    },
    {
      "cell_type": "markdown",
      "metadata": {
        "id": "655H2fKPVG6t"
      },
      "source": [
        "under Sampling\n",
        "\n",
        "Build a sample dataset containing equally distrubuted transactions.\n",
        "\n",
        "Number of Fraud Transactions = 56"
      ]
    },
    {
      "cell_type": "code",
      "metadata": {
        "id": "9vQNGgpYWFT5"
      },
      "source": [
        "Normal_sample = normal.sample(n=56)"
      ],
      "execution_count": null,
      "outputs": []
    },
    {
      "cell_type": "code",
      "metadata": {
        "colab": {
          "base_uri": "https://localhost:8080/",
          "height": 223
        },
        "id": "WKXsZRSfWTIz",
        "outputId": "e0b0cea2-d9cc-4b5f-e719-5b5540213930"
      },
      "source": [
        "# concatening two data sets one is fraud and other is Normal_sample\n",
        "new_dataset = pd.concat([Normal_sample, fraud],axis = 0)\n",
        "new_dataset.tail()\n"
      ],
      "execution_count": null,
      "outputs": [
        {
          "output_type": "execute_result",
          "data": {
            "text/html": [
              "<div>\n",
              "<style scoped>\n",
              "    .dataframe tbody tr th:only-of-type {\n",
              "        vertical-align: middle;\n",
              "    }\n",
              "\n",
              "    .dataframe tbody tr th {\n",
              "        vertical-align: top;\n",
              "    }\n",
              "\n",
              "    .dataframe thead th {\n",
              "        text-align: right;\n",
              "    }\n",
              "</style>\n",
              "<table border=\"1\" class=\"dataframe\">\n",
              "  <thead>\n",
              "    <tr style=\"text-align: right;\">\n",
              "      <th></th>\n",
              "      <th>Time</th>\n",
              "      <th>V1</th>\n",
              "      <th>V2</th>\n",
              "      <th>V3</th>\n",
              "      <th>V4</th>\n",
              "      <th>V5</th>\n",
              "      <th>V6</th>\n",
              "      <th>V7</th>\n",
              "      <th>V8</th>\n",
              "      <th>V9</th>\n",
              "      <th>V10</th>\n",
              "      <th>V11</th>\n",
              "      <th>V12</th>\n",
              "      <th>V13</th>\n",
              "      <th>V14</th>\n",
              "      <th>V15</th>\n",
              "      <th>V16</th>\n",
              "      <th>V17</th>\n",
              "      <th>V18</th>\n",
              "      <th>V19</th>\n",
              "      <th>V20</th>\n",
              "      <th>V21</th>\n",
              "      <th>V22</th>\n",
              "      <th>V23</th>\n",
              "      <th>V24</th>\n",
              "      <th>V25</th>\n",
              "      <th>V26</th>\n",
              "      <th>V27</th>\n",
              "      <th>V28</th>\n",
              "      <th>Amount</th>\n",
              "      <th>Class</th>\n",
              "    </tr>\n",
              "  </thead>\n",
              "  <tbody>\n",
              "    <tr>\n",
              "      <th>11880</th>\n",
              "      <td>20451</td>\n",
              "      <td>-15.819179</td>\n",
              "      <td>8.775997</td>\n",
              "      <td>-22.804686</td>\n",
              "      <td>11.864868</td>\n",
              "      <td>-9.092361</td>\n",
              "      <td>-2.386893</td>\n",
              "      <td>-16.560368</td>\n",
              "      <td>0.948349</td>\n",
              "      <td>-6.310658</td>\n",
              "      <td>-13.088891</td>\n",
              "      <td>9.815703</td>\n",
              "      <td>-14.056061</td>\n",
              "      <td>0.777192</td>\n",
              "      <td>-13.761018</td>\n",
              "      <td>-0.353636</td>\n",
              "      <td>-7.957447</td>\n",
              "      <td>-11.962954</td>\n",
              "      <td>-4.780508</td>\n",
              "      <td>0.652498</td>\n",
              "      <td>0.992279</td>\n",
              "      <td>-2.350634</td>\n",
              "      <td>1.036362</td>\n",
              "      <td>1.136051</td>\n",
              "      <td>-1.043414</td>\n",
              "      <td>-0.108923</td>\n",
              "      <td>0.657437</td>\n",
              "      <td>2.136424</td>\n",
              "      <td>-1.411945</td>\n",
              "      <td>1.0</td>\n",
              "      <td>1.0</td>\n",
              "    </tr>\n",
              "    <tr>\n",
              "      <th>12070</th>\n",
              "      <td>20931</td>\n",
              "      <td>-16.367923</td>\n",
              "      <td>9.223692</td>\n",
              "      <td>-23.270631</td>\n",
              "      <td>11.844777</td>\n",
              "      <td>-9.462037</td>\n",
              "      <td>-2.450444</td>\n",
              "      <td>-16.925152</td>\n",
              "      <td>1.384208</td>\n",
              "      <td>-6.287736</td>\n",
              "      <td>-13.002709</td>\n",
              "      <td>9.691461</td>\n",
              "      <td>-13.886595</td>\n",
              "      <td>0.838361</td>\n",
              "      <td>-13.517072</td>\n",
              "      <td>-0.377911</td>\n",
              "      <td>-7.855681</td>\n",
              "      <td>-11.803815</td>\n",
              "      <td>-4.761026</td>\n",
              "      <td>0.618624</td>\n",
              "      <td>0.993585</td>\n",
              "      <td>-2.343674</td>\n",
              "      <td>1.004602</td>\n",
              "      <td>1.188212</td>\n",
              "      <td>-1.047184</td>\n",
              "      <td>-0.035573</td>\n",
              "      <td>0.664900</td>\n",
              "      <td>2.122796</td>\n",
              "      <td>-1.416741</td>\n",
              "      <td>1.0</td>\n",
              "      <td>1.0</td>\n",
              "    </tr>\n",
              "    <tr>\n",
              "      <th>12108</th>\n",
              "      <td>21046</td>\n",
              "      <td>-16.917468</td>\n",
              "      <td>9.669900</td>\n",
              "      <td>-23.736443</td>\n",
              "      <td>11.824990</td>\n",
              "      <td>-9.830548</td>\n",
              "      <td>-2.514829</td>\n",
              "      <td>-17.290657</td>\n",
              "      <td>1.820408</td>\n",
              "      <td>-6.264903</td>\n",
              "      <td>-12.916636</td>\n",
              "      <td>9.567110</td>\n",
              "      <td>-13.717067</td>\n",
              "      <td>0.899541</td>\n",
              "      <td>-13.272965</td>\n",
              "      <td>-0.402260</td>\n",
              "      <td>-7.754094</td>\n",
              "      <td>-11.644603</td>\n",
              "      <td>-4.741303</td>\n",
              "      <td>0.584626</td>\n",
              "      <td>0.996745</td>\n",
              "      <td>-2.336111</td>\n",
              "      <td>0.972755</td>\n",
              "      <td>1.241866</td>\n",
              "      <td>-1.051086</td>\n",
              "      <td>0.038009</td>\n",
              "      <td>0.672317</td>\n",
              "      <td>2.108471</td>\n",
              "      <td>-1.421243</td>\n",
              "      <td>1.0</td>\n",
              "      <td>1.0</td>\n",
              "    </tr>\n",
              "    <tr>\n",
              "      <th>12261</th>\n",
              "      <td>21419</td>\n",
              "      <td>-17.467710</td>\n",
              "      <td>10.114816</td>\n",
              "      <td>-24.202142</td>\n",
              "      <td>11.805469</td>\n",
              "      <td>-10.198046</td>\n",
              "      <td>-2.579938</td>\n",
              "      <td>-17.656788</td>\n",
              "      <td>2.256902</td>\n",
              "      <td>-6.242149</td>\n",
              "      <td>-12.830657</td>\n",
              "      <td>9.442665</td>\n",
              "      <td>-13.547486</td>\n",
              "      <td>0.960729</td>\n",
              "      <td>-13.028717</td>\n",
              "      <td>-0.426674</td>\n",
              "      <td>-7.652662</td>\n",
              "      <td>-11.485328</td>\n",
              "      <td>-4.721370</td>\n",
              "      <td>0.550519</td>\n",
              "      <td>1.001519</td>\n",
              "      <td>-2.328024</td>\n",
              "      <td>0.940830</td>\n",
              "      <td>1.296817</td>\n",
              "      <td>-1.055104</td>\n",
              "      <td>0.111792</td>\n",
              "      <td>0.679695</td>\n",
              "      <td>2.093541</td>\n",
              "      <td>-1.425491</td>\n",
              "      <td>1.0</td>\n",
              "      <td>1.0</td>\n",
              "    </tr>\n",
              "    <tr>\n",
              "      <th>12369</th>\n",
              "      <td>21662</td>\n",
              "      <td>-18.018561</td>\n",
              "      <td>10.558600</td>\n",
              "      <td>-24.667741</td>\n",
              "      <td>11.786180</td>\n",
              "      <td>-10.564657</td>\n",
              "      <td>-2.645681</td>\n",
              "      <td>-18.023468</td>\n",
              "      <td>2.693655</td>\n",
              "      <td>-6.219464</td>\n",
              "      <td>-12.744761</td>\n",
              "      <td>9.318138</td>\n",
              "      <td>-13.377857</td>\n",
              "      <td>1.021924</td>\n",
              "      <td>-12.784346</td>\n",
              "      <td>-0.451146</td>\n",
              "      <td>-7.551365</td>\n",
              "      <td>-11.325997</td>\n",
              "      <td>-4.701253</td>\n",
              "      <td>0.516317</td>\n",
              "      <td>1.007703</td>\n",
              "      <td>-2.319479</td>\n",
              "      <td>0.908839</td>\n",
              "      <td>1.352904</td>\n",
              "      <td>-1.059222</td>\n",
              "      <td>0.185751</td>\n",
              "      <td>0.687037</td>\n",
              "      <td>2.078081</td>\n",
              "      <td>-1.429517</td>\n",
              "      <td>1.0</td>\n",
              "      <td>1.0</td>\n",
              "    </tr>\n",
              "  </tbody>\n",
              "</table>\n",
              "</div>"
            ],
            "text/plain": [
              "        Time         V1         V2  ...       V28  Amount  Class\n",
              "11880  20451 -15.819179   8.775997  ... -1.411945     1.0    1.0\n",
              "12070  20931 -16.367923   9.223692  ... -1.416741     1.0    1.0\n",
              "12108  21046 -16.917468   9.669900  ... -1.421243     1.0    1.0\n",
              "12261  21419 -17.467710  10.114816  ... -1.425491     1.0    1.0\n",
              "12369  21662 -18.018561  10.558600  ... -1.429517     1.0    1.0\n",
              "\n",
              "[5 rows x 31 columns]"
            ]
          },
          "metadata": {},
          "execution_count": 26
        }
      ]
    },
    {
      "cell_type": "code",
      "metadata": {
        "colab": {
          "base_uri": "https://localhost:8080/"
        },
        "id": "2Ntuz4GFdsmW",
        "outputId": "0c83d996-8e40-498d-b258-b856148fef68"
      },
      "source": [
        "new_dataset['Class'].value_counts()"
      ],
      "execution_count": null,
      "outputs": [
        {
          "output_type": "execute_result",
          "data": {
            "text/plain": [
              "1.0    56\n",
              "0.0    56\n",
              "Name: Class, dtype: int64"
            ]
          },
          "metadata": {},
          "execution_count": 29
        }
      ]
    },
    {
      "cell_type": "code",
      "metadata": {
        "colab": {
          "base_uri": "https://localhost:8080/",
          "height": 162
        },
        "id": "v2_HtS0MfMn-",
        "outputId": "8ac089f9-c209-4eea-d044-ae1d9085a01c"
      },
      "source": [
        "new_dataset.groupby('Class').mean()"
      ],
      "execution_count": null,
      "outputs": [
        {
          "output_type": "execute_result",
          "data": {
            "text/html": [
              "<div>\n",
              "<style scoped>\n",
              "    .dataframe tbody tr th:only-of-type {\n",
              "        vertical-align: middle;\n",
              "    }\n",
              "\n",
              "    .dataframe tbody tr th {\n",
              "        vertical-align: top;\n",
              "    }\n",
              "\n",
              "    .dataframe thead th {\n",
              "        text-align: right;\n",
              "    }\n",
              "</style>\n",
              "<table border=\"1\" class=\"dataframe\">\n",
              "  <thead>\n",
              "    <tr style=\"text-align: right;\">\n",
              "      <th></th>\n",
              "      <th>Time</th>\n",
              "      <th>V1</th>\n",
              "      <th>V2</th>\n",
              "      <th>V3</th>\n",
              "      <th>V4</th>\n",
              "      <th>V5</th>\n",
              "      <th>V6</th>\n",
              "      <th>V7</th>\n",
              "      <th>V8</th>\n",
              "      <th>V9</th>\n",
              "      <th>V10</th>\n",
              "      <th>V11</th>\n",
              "      <th>V12</th>\n",
              "      <th>V13</th>\n",
              "      <th>V14</th>\n",
              "      <th>V15</th>\n",
              "      <th>V16</th>\n",
              "      <th>V17</th>\n",
              "      <th>V18</th>\n",
              "      <th>V19</th>\n",
              "      <th>V20</th>\n",
              "      <th>V21</th>\n",
              "      <th>V22</th>\n",
              "      <th>V23</th>\n",
              "      <th>V24</th>\n",
              "      <th>V25</th>\n",
              "      <th>V26</th>\n",
              "      <th>V27</th>\n",
              "      <th>V28</th>\n",
              "      <th>Amount</th>\n",
              "    </tr>\n",
              "    <tr>\n",
              "      <th>Class</th>\n",
              "      <th></th>\n",
              "      <th></th>\n",
              "      <th></th>\n",
              "      <th></th>\n",
              "      <th></th>\n",
              "      <th></th>\n",
              "      <th></th>\n",
              "      <th></th>\n",
              "      <th></th>\n",
              "      <th></th>\n",
              "      <th></th>\n",
              "      <th></th>\n",
              "      <th></th>\n",
              "      <th></th>\n",
              "      <th></th>\n",
              "      <th></th>\n",
              "      <th></th>\n",
              "      <th></th>\n",
              "      <th></th>\n",
              "      <th></th>\n",
              "      <th></th>\n",
              "      <th></th>\n",
              "      <th></th>\n",
              "      <th></th>\n",
              "      <th></th>\n",
              "      <th></th>\n",
              "      <th></th>\n",
              "      <th></th>\n",
              "      <th></th>\n",
              "      <th></th>\n",
              "    </tr>\n",
              "  </thead>\n",
              "  <tbody>\n",
              "    <tr>\n",
              "      <th>0.0</th>\n",
              "      <td>10247.321429</td>\n",
              "      <td>-0.332938</td>\n",
              "      <td>0.450124</td>\n",
              "      <td>0.887789</td>\n",
              "      <td>0.524030</td>\n",
              "      <td>-0.464352</td>\n",
              "      <td>0.22797</td>\n",
              "      <td>-0.306344</td>\n",
              "      <td>0.002561</td>\n",
              "      <td>1.159585</td>\n",
              "      <td>-0.239134</td>\n",
              "      <td>0.795983</td>\n",
              "      <td>-1.697386</td>\n",
              "      <td>1.199638</td>\n",
              "      <td>1.101837</td>\n",
              "      <td>-0.469796</td>\n",
              "      <td>-0.028487</td>\n",
              "      <td>0.589879</td>\n",
              "      <td>0.274567</td>\n",
              "      <td>-0.065011</td>\n",
              "      <td>-0.018174</td>\n",
              "      <td>0.121289</td>\n",
              "      <td>-0.191014</td>\n",
              "      <td>-0.044272</td>\n",
              "      <td>-0.071523</td>\n",
              "      <td>0.151930</td>\n",
              "      <td>0.018638</td>\n",
              "      <td>-0.030834</td>\n",
              "      <td>-0.029523</td>\n",
              "      <td>66.361607</td>\n",
              "    </tr>\n",
              "    <tr>\n",
              "      <th>1.0</th>\n",
              "      <td>12262.107143</td>\n",
              "      <td>-4.727948</td>\n",
              "      <td>4.660436</td>\n",
              "      <td>-9.328536</td>\n",
              "      <td>6.783464</td>\n",
              "      <td>-2.890388</td>\n",
              "      <td>-2.03036</td>\n",
              "      <td>-6.578337</td>\n",
              "      <td>1.028374</td>\n",
              "      <td>-2.981468</td>\n",
              "      <td>-7.502753</td>\n",
              "      <td>6.879584</td>\n",
              "      <td>-10.591544</td>\n",
              "      <td>0.548941</td>\n",
              "      <td>-9.973580</td>\n",
              "      <td>-0.256254</td>\n",
              "      <td>-5.225182</td>\n",
              "      <td>-7.478164</td>\n",
              "      <td>-2.516508</td>\n",
              "      <td>0.272975</td>\n",
              "      <td>0.453283</td>\n",
              "      <td>0.116896</td>\n",
              "      <td>0.048132</td>\n",
              "      <td>-0.225526</td>\n",
              "      <td>-0.452514</td>\n",
              "      <td>-0.124184</td>\n",
              "      <td>0.333325</td>\n",
              "      <td>0.793484</td>\n",
              "      <td>-0.046177</td>\n",
              "      <td>90.815893</td>\n",
              "    </tr>\n",
              "  </tbody>\n",
              "</table>\n",
              "</div>"
            ],
            "text/plain": [
              "               Time        V1        V2  ...       V27       V28     Amount\n",
              "Class                                    ...                               \n",
              "0.0    10247.321429 -0.332938  0.450124  ... -0.030834 -0.029523  66.361607\n",
              "1.0    12262.107143 -4.727948  4.660436  ...  0.793484 -0.046177  90.815893\n",
              "\n",
              "[2 rows x 30 columns]"
            ]
          },
          "metadata": {},
          "execution_count": 31
        }
      ]
    },
    {
      "cell_type": "code",
      "metadata": {
        "id": "G12zRZKMfpfB"
      },
      "source": [
        "#splitting the data \n",
        "X = new_dataset.drop(columns='Class', axis =1 )\n",
        "Y = new_dataset['Class']"
      ],
      "execution_count": null,
      "outputs": []
    },
    {
      "cell_type": "code",
      "metadata": {
        "colab": {
          "base_uri": "https://localhost:8080/"
        },
        "id": "SwngfsJGg6hk",
        "outputId": "e7e4ca5e-8b88-4aca-8a95-7ae49dbcb385"
      },
      "source": [
        "print(X)\n",
        "print(Y)"
      ],
      "execution_count": null,
      "outputs": [
        {
          "output_type": "stream",
          "name": "stdout",
          "text": [
            "        Time         V1         V2  ...       V27       V28  Amount\n",
            "10052  15207   1.215002   0.561628  ... -0.017302 -0.010360    2.99\n",
            "10197  15774  -1.377080   0.355754  ... -0.193262  0.232369    0.76\n",
            "6362    7579  -0.353191   1.015744  ...  0.209757 -0.027942   36.00\n",
            "13393  23664   0.343044  -1.127913  ... -0.057848  0.058355  389.40\n",
            "2223    1750   1.063293  -0.519996  ...  0.132025 -0.008947    4.50\n",
            "...      ...        ...        ...  ...       ...       ...     ...\n",
            "11880  20451 -15.819179   8.775997  ...  2.136424 -1.411945    1.00\n",
            "12070  20931 -16.367923   9.223692  ...  2.122796 -1.416741    1.00\n",
            "12108  21046 -16.917468   9.669900  ...  2.108471 -1.421243    1.00\n",
            "12261  21419 -17.467710  10.114816  ...  2.093541 -1.425491    1.00\n",
            "12369  21662 -18.018561  10.558600  ...  2.078081 -1.429517    1.00\n",
            "\n",
            "[112 rows x 30 columns]\n",
            "10052    0.0\n",
            "10197    0.0\n",
            "6362     0.0\n",
            "13393    0.0\n",
            "2223     0.0\n",
            "        ... \n",
            "11880    1.0\n",
            "12070    1.0\n",
            "12108    1.0\n",
            "12261    1.0\n",
            "12369    1.0\n",
            "Name: Class, Length: 112, dtype: float64\n"
          ]
        }
      ]
    },
    {
      "cell_type": "markdown",
      "metadata": {
        "id": "Q4dzcnRfhmgx"
      },
      "source": [
        "Splitting the test and train data"
      ]
    },
    {
      "cell_type": "code",
      "metadata": {
        "id": "ae3yl9dNh2Pd"
      },
      "source": [
        "X_test,X_train,Y_test,Y_train = train_test_split(X,Y,test_size = 0.2,stratify=Y,random_state=2)"
      ],
      "execution_count": null,
      "outputs": []
    },
    {
      "cell_type": "code",
      "metadata": {
        "colab": {
          "base_uri": "https://localhost:8080/"
        },
        "id": "gW6h2fePicME",
        "outputId": "52edaa90-ab3a-4576-c80e-35ee8a3ddbeb"
      },
      "source": [
        "print(X.shape,X_train.shape,X_test.shape)"
      ],
      "execution_count": null,
      "outputs": [
        {
          "output_type": "stream",
          "name": "stdout",
          "text": [
            "(112, 30) (23, 30) (89, 30)\n"
          ]
        }
      ]
    },
    {
      "cell_type": "markdown",
      "metadata": {
        "id": "ZVmFBZFIjHWH"
      },
      "source": [
        "Model Training"
      ]
    },
    {
      "cell_type": "code",
      "metadata": {
        "id": "o-EJWRb4jMTt"
      },
      "source": [
        "model = LogisticRegression()"
      ],
      "execution_count": null,
      "outputs": []
    },
    {
      "cell_type": "code",
      "metadata": {
        "colab": {
          "base_uri": "https://localhost:8080/"
        },
        "id": "eE7qsYSsjSrl",
        "outputId": "c43be82f-fe09-4e30-efe4-13a14352d420"
      },
      "source": [
        "#training the Logistic Regression  model\n",
        "model.fit(X_train,Y_train)"
      ],
      "execution_count": null,
      "outputs": [
        {
          "output_type": "stream",
          "name": "stderr",
          "text": [
            "/usr/local/lib/python3.7/dist-packages/sklearn/linear_model/_logistic.py:940: ConvergenceWarning: lbfgs failed to converge (status=1):\n",
            "STOP: TOTAL NO. of ITERATIONS REACHED LIMIT.\n",
            "\n",
            "Increase the number of iterations (max_iter) or scale the data as shown in:\n",
            "    https://scikit-learn.org/stable/modules/preprocessing.html\n",
            "Please also refer to the documentation for alternative solver options:\n",
            "    https://scikit-learn.org/stable/modules/linear_model.html#logistic-regression\n",
            "  extra_warning_msg=_LOGISTIC_SOLVER_CONVERGENCE_MSG)\n"
          ]
        },
        {
          "output_type": "execute_result",
          "data": {
            "text/plain": [
              "LogisticRegression(C=1.0, class_weight=None, dual=False, fit_intercept=True,\n",
              "                   intercept_scaling=1, l1_ratio=None, max_iter=100,\n",
              "                   multi_class='auto', n_jobs=None, penalty='l2',\n",
              "                   random_state=None, solver='lbfgs', tol=0.0001, verbose=0,\n",
              "                   warm_start=False)"
            ]
          },
          "metadata": {},
          "execution_count": 45
        }
      ]
    },
    {
      "cell_type": "markdown",
      "metadata": {
        "id": "zJbApOFmnwLk"
      },
      "source": [
        "Model Evaluation\n",
        "\n",
        "Accuracy Score\n",
        "\n"
      ]
    },
    {
      "cell_type": "code",
      "metadata": {
        "id": "PjTcPoDln9kR"
      },
      "source": [
        "#accuracy on train data\n",
        "X_train_prediction = model.predict(X_train)\n",
        "Accuracy_score = accuracy_score(X_train_prediction,Y_train)"
      ],
      "execution_count": null,
      "outputs": []
    },
    {
      "cell_type": "code",
      "metadata": {
        "colab": {
          "base_uri": "https://localhost:8080/"
        },
        "id": "rIpyeB6_oSLo",
        "outputId": "1ce26835-d531-470f-94ae-5417754ddafd"
      },
      "source": [
        "print(Accuracy_score)"
      ],
      "execution_count": null,
      "outputs": [
        {
          "output_type": "stream",
          "name": "stdout",
          "text": [
            "0.9325842696629213\n"
          ]
        }
      ]
    },
    {
      "cell_type": "code",
      "metadata": {
        "id": "JlDqRlZjok0M"
      },
      "source": [
        "#accuracy on test data\n",
        "X_test_prediction = model.predict(X_test)\n",
        "Accuracy_score = accuracy_score(X_test_prediction,Y_test)"
      ],
      "execution_count": null,
      "outputs": []
    },
    {
      "cell_type": "code",
      "metadata": {
        "colab": {
          "base_uri": "https://localhost:8080/"
        },
        "id": "WAbd1wKdpV0g",
        "outputId": "fdb763a1-b4ea-44a3-ea3e-668d92965b10"
      },
      "source": [
        "print(Accuracy_score)"
      ],
      "execution_count": null,
      "outputs": [
        {
          "output_type": "stream",
          "name": "stdout",
          "text": [
            "0.9325842696629213\n"
          ]
        }
      ]
    },
    {
      "cell_type": "code",
      "metadata": {
        "id": "SI-1e4cspYF9"
      },
      "source": [
        ""
      ],
      "execution_count": null,
      "outputs": []
    }
  ]
}